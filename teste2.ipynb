{
 "cells": [
  {
   "cell_type": "code",
   "execution_count": 1,
   "metadata": {},
   "outputs": [
    {
     "ename": "ModuleNotFoundError",
     "evalue": "No module named 'matplotlib'",
     "output_type": "error",
     "traceback": [
      "\u001b[0;31m---------------------------------------------------------------------------\u001b[0m",
      "\u001b[0;31mModuleNotFoundError\u001b[0m                       Traceback (most recent call last)",
      "Cell \u001b[0;32mIn[1], line 2\u001b[0m\n\u001b[1;32m      1\u001b[0m \u001b[38;5;28;01mimport\u001b[39;00m \u001b[38;5;21;01mpandas\u001b[39;00m \u001b[38;5;28;01mas\u001b[39;00m \u001b[38;5;21;01mpd\u001b[39;00m\n\u001b[0;32m----> 2\u001b[0m \u001b[38;5;28;01mimport\u001b[39;00m \u001b[38;5;21;01mmatplotlib\u001b[39;00m\u001b[38;5;21;01m.\u001b[39;00m\u001b[38;5;21;01mpyplot\u001b[39;00m \u001b[38;5;28;01mas\u001b[39;00m \u001b[38;5;21;01mplt\u001b[39;00m\n\u001b[1;32m      4\u001b[0m \u001b[38;5;28;01mdef\u001b[39;00m \u001b[38;5;21mcreate_dataframe\u001b[39m():\n\u001b[1;32m      5\u001b[0m     data \u001b[38;5;241m=\u001b[39m {\n\u001b[1;32m      6\u001b[0m         \u001b[38;5;124m'\u001b[39m\u001b[38;5;124mAno\u001b[39m\u001b[38;5;124m'\u001b[39m: [\u001b[38;5;241m2020\u001b[39m, \u001b[38;5;241m2021\u001b[39m, \u001b[38;5;241m2022\u001b[39m, \u001b[38;5;241m2023\u001b[39m],\n\u001b[1;32m      7\u001b[0m         \u001b[38;5;124m'\u001b[39m\u001b[38;5;124mVendas\u001b[39m\u001b[38;5;124m'\u001b[39m: [\u001b[38;5;241m1500\u001b[39m, \u001b[38;5;241m2000\u001b[39m, \u001b[38;5;241m3000\u001b[39m, \u001b[38;5;241m4000\u001b[39m]\n\u001b[1;32m      8\u001b[0m     }\n",
      "\u001b[0;31mModuleNotFoundError\u001b[0m: No module named 'matplotlib'"
     ]
    }
   ],
   "source": [
    "import pandas as pd\n",
    "import matplotlib.pyplot as plt\n",
    "\n",
    "def create_dataframe():\n",
    "    data = {\n",
    "        'Ano': [2020, 2021, 2022, 2023],\n",
    "        'Vendas': [1500, 2000, 3000, 4000]\n",
    "    }\n",
    "    df = pd.DataFrame(data)\n",
    "    return df\n",
    "\n",
    "def plot_vendas(df):\n",
    "    plt.figure(figsize=(8, 5))\n",
    "    plt.plot(df['Ano'], df['Vendas'], marker='o')\n",
    "    plt.title('Vendas ao longo dos anos')\n",
    "    plt.xlabel('Ano')\n",
    "    plt.ylabel('Vendas')\n",
    "    plt.grid()\n",
    "    plt.savefig('vendas_plot.png')\n",
    "    plt.close()\n"
   ]
  },
  {
   "cell_type": "code",
   "execution_count": null,
   "metadata": {},
   "outputs": [],
   "source": []
  }
 ],
 "metadata": {
  "kernelspec": {
   "display_name": "sql-guia-pratico-9TtSrW0h-py3.11",
   "language": "python",
   "name": "python3"
  },
  "language_info": {
   "codemirror_mode": {
    "name": "ipython",
    "version": 3
   },
   "file_extension": ".py",
   "mimetype": "text/x-python",
   "name": "python",
   "nbconvert_exporter": "python",
   "pygments_lexer": "ipython3",
   "version": "3.11.10"
  }
 },
 "nbformat": 4,
 "nbformat_minor": 4
}
